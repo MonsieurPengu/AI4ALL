{
  "nbformat": 4,
  "nbformat_minor": 0,
  "metadata": {
    "colab": {
      "name": "HandsOnAssignment1.ipynb",
      "provenance": [],
      "authorship_tag": "ABX9TyOrJkTVs9slYHHkemSv4rh+",
      "include_colab_link": true
    },
    "kernelspec": {
      "name": "python3",
      "display_name": "Python 3"
    }
  },
  "cells": [
    {
      "cell_type": "markdown",
      "metadata": {
        "id": "view-in-github",
        "colab_type": "text"
      },
      "source": [
        "<a href=\"https://colab.research.google.com/github/MonsieurPengu/AI4ALL/blob/main/HandsOnAssignment1.ipynb\" target=\"_parent\"><img src=\"https://colab.research.google.com/assets/colab-badge.svg\" alt=\"Open In Colab\"/></a>"
      ]
    },
    {
      "cell_type": "markdown",
      "metadata": {
        "id": "VWaEfYNcXv6C"
      },
      "source": [
        "Hands-On Assignment - Python Programming for Beginners (Ian Wang)"
      ]
    },
    {
      "cell_type": "code",
      "metadata": {
        "colab": {
          "base_uri": "https://localhost:8080/"
        },
        "id": "NSvQy0njXAFk",
        "outputId": "f2302c75-eecf-4bbd-b346-58092a3f8240"
      },
      "source": [
        "val1 = input(\"Enter first value: \")\r\n",
        "val2 = input(\"Enter second value: \")\r\n",
        "if val1 > val2:\r\n",
        "  print(val1)\r\n",
        "else:\r\n",
        "  print(val2)"
      ],
      "execution_count": 1,
      "outputs": [
        {
          "output_type": "stream",
          "text": [
            "Enter first value: 5\n",
            "Enter second value: 6\n",
            "6\n"
          ],
          "name": "stdout"
        }
      ]
    },
    {
      "cell_type": "code",
      "metadata": {
        "id": "PMB3Mc-wXp_P"
      },
      "source": [
        "def fizz_buzz(x): \r\n",
        "  if x%3 == 0:\r\n",
        "    print(\"Fizz\")\r\n",
        "  elif x%5 == 0:\r\n",
        "    print(\"Buzz\")\r\n",
        "  elif x%3 == 0 & x%5==0:\r\n",
        "    print(\"FizzBuzz\")\r\n",
        "  else:\r\n",
        "    print(x)"
      ],
      "execution_count": 8,
      "outputs": []
    },
    {
      "cell_type": "code",
      "metadata": {
        "id": "RmivPhZ7Y_ca"
      },
      "source": [
        "def sum_multiples(start, limit):\r\n",
        "  total = 0\r\n",
        "  for iterator in range(start, limit):\r\n",
        "    if (iterator%3 == 0 & iterator%5 == 0):\r\n",
        "      total += iterator\r\n",
        "  print(\"Sum of multiples in range \", start, \" to \", limit, \" is: \", total)"
      ],
      "execution_count": 11,
      "outputs": []
    }
  ]
}